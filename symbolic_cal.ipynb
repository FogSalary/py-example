{
 "cells": [
  {
   "cell_type": "code",
   "execution_count": null,
   "metadata": {},
   "outputs": [
    {
     "data": {
      "image/png": "[encoded data removed]",
      "text/latex": [
       "$\\displaystyle x^{2} + y^{2}$"
      ],
      "text/plain": [
       " 2    2\n",
       "x  + y "
      ]
     },
     "execution_count": 2,
     "metadata": {},
     "output_type": "execute_result"
    }
   ],
   "source": [
    "import sympy as sym\n",
    "\n",
    "sym.init_printing()  # initial sympy mooduel latex render.\n",
    "\n",
    "# define symbol and equation\n",
    "x, y = sym.symbols('x y', real=True)\n",
    "expr = x**2 + y**2\n",
    "\n",
    "expr"
   ]
  },
  {
   "cell_type": "markdown",
   "metadata": {},
   "source": [
    "### 符号变量的构建"
   ]
  },
  {
   "cell_type": "code",
   "execution_count": 12,
   "metadata": {},
   "outputs": [
    {
     "data": {
      "image/png": "[encoded data removed]",
      "text/latex": [
       "$\\displaystyle x_{1}$"
      ],
      "text/plain": [
       "x₁"
      ]
     },
     "execution_count": 12,
     "metadata": {},
     "output_type": "execute_result"
    }
   ],
   "source": [
    "x1, y1 = sym.symbols('x1 y1')\n",
    "x1"
   ]
  },
  {
   "cell_type": "code",
   "execution_count": 8,
   "metadata": {},
   "outputs": [],
   "source": [
    "def output_latex_markdown(symbolic):\n",
    "    latex_str = sym.latex(symbolic)\n",
    "    with open(\"output.md\", \"w\") as f:\n",
    "        f.write(f\"$$ {latex_str} $$\")"
   ]
  },
  {
   "cell_type": "code",
   "execution_count": 9,
   "metadata": {},
   "outputs": [],
   "source": [
    "a11, a12, a13 = sym.symbols(\"a11 a12 a13\", real=True)\n",
    "a21, a22, a23 = sym.symbols(\"a21 a22 a23\", real=True)\n",
    "a31, a32, a33 = sym.symbols(\"a31 a32 a33\", real=True)\n",
    "\n",
    "A = sym.Matrix([\n",
    "    [a11, a12, a13],\n",
    "    [a21, a22, a23],\n",
    "    [a31, a32, a33]\n",
    "])\n",
    "\n",
    "output_latex_markdown(A)"
   ]
  }
 ],
 "metadata": {
  "kernelspec": {
   "display_name": "py39",
   "language": "python",
   "name": "python3"
  },
  "language_info": {
   "codemirror_mode": {
    "name": "ipython",
    "version": 3
   },
   "file_extension": ".py",
   "mimetype": "text/x-python",
   "name": "python",
   "nbconvert_exporter": "python",
   "pygments_lexer": "ipython3",
   "version": "3.9.20"
  }
 },
 "nbformat": 4,
 "nbformat_minor": 2
}
